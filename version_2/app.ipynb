{
 "cells": [
  {
   "cell_type": "code",
   "execution_count": 1,
   "id": "7c2d77b3",
   "metadata": {},
   "outputs": [
    {
     "name": "stderr",
     "output_type": "stream",
     "text": [
      "c:\\Users\\abhay\\OneDrive\\Desktop\\PJ_Revamp\\venv\\Lib\\site-packages\\tqdm\\auto.py:21: TqdmWarning: IProgress not found. Please update jupyter and ipywidgets. See https://ipywidgets.readthedocs.io/en/stable/user_install.html\n",
      "  from .autonotebook import tqdm as notebook_tqdm\n"
     ]
    },
    {
     "name": "stdout",
     "output_type": "stream",
     "text": [
      "Downloading from https://www.kaggle.com/api/v1/datasets/download/phiitm/marvel-cinematic-universe-dialogue-dataset?dataset_version_number=1...\n"
     ]
    },
    {
     "name": "stderr",
     "output_type": "stream",
     "text": [
      "100%|██████████| 474k/474k [00:01<00:00, 444kB/s]"
     ]
    },
    {
     "name": "stdout",
     "output_type": "stream",
     "text": [
      "Extracting files...\n",
      "Path to dataset files: C:\\Users\\abhay\\.cache\\kagglehub\\datasets\\phiitm\\marvel-cinematic-universe-dialogue-dataset\\versions\\1\n"
     ]
    },
    {
     "name": "stderr",
     "output_type": "stream",
     "text": [
      "\n"
     ]
    }
   ],
   "source": [
    "import kagglehub\n",
    "\n",
    "# Download latest version\n",
    "path = kagglehub.dataset_download(\"phiitm/marvel-cinematic-universe-dialogue-dataset\")\n",
    "\n",
    "print(\"Path to dataset files:\", path)"
   ]
  },
  {
   "cell_type": "code",
   "execution_count": 9,
   "id": "5272a803",
   "metadata": {},
   "outputs": [],
   "source": [
    "import os\n",
    "from langchain.vectorstores import Chroma\n",
    "from langchain.embeddings import HuggingFaceEmbeddings\n",
    "from langchain.schema import Document\n",
    "from langchain.text_splitter import CharacterTextSplitter"
   ]
  },
  {
   "cell_type": "code",
   "execution_count": null,
   "id": "fbfbc385",
   "metadata": {},
   "outputs": [],
   "source": [
    "subtitle_dir = r\"C:\\Users\\abhay\\OneDrive\\Desktop\\PJ_Revamp\\Advanced-Semantic-Search-Engine\\version_2\\subtitles\"\n",
    "documents = []\n",
    "# make sure you change the path in subtitles_dir\n",
    "\n",
    "def read_file_with_fallback(filepath):\n",
    "    encodings = [\"utf-8\", \"latin-1\", \"cp1252\"]\n",
    "    for enc in encodings:\n",
    "        try:\n",
    "            with open(filepath, \"r\", encoding=enc) as f:\n",
    "                return f.read()\n",
    "        except UnicodeDecodeError:\n",
    "            continue\n",
    "    print(f\"Failed to decode {filepath}\")\n",
    "    return \"\"\n",
    "\n",
    "for filename in os.listdir(subtitle_dir):\n",
    "    if filename.endswith(\".txt\"):\n",
    "        filepath = os.path.join(subtitle_dir, filename)\n",
    "        text = read_file_with_fallback(filepath)\n",
    "        if text:\n",
    "            documents.append(Document(page_content=text, metadata={\"source\": filename}))"
   ]
  },
  {
   "cell_type": "code",
   "execution_count": 14,
   "id": "142e42ac",
   "metadata": {},
   "outputs": [
    {
     "name": "stderr",
     "output_type": "stream",
     "text": [
      "Created a chunk of size 25878, which is longer than the specified 500\n"
     ]
    }
   ],
   "source": [
    "splitter = CharacterTextSplitter(chunk_size=500, chunk_overlap=50)\n",
    "docs = []\n",
    "for doc in documents:\n",
    "    splits = splitter.split_text(doc.page_content)\n",
    "    for chunk in splits:\n",
    "        docs.append(Document(page_content=chunk, metadata={\"source\": doc.metadata[\"source\"]}))"
   ]
  },
  {
   "cell_type": "code",
   "execution_count": 15,
   "id": "214f2963",
   "metadata": {},
   "outputs": [],
   "source": [
    "embedding_function = HuggingFaceEmbeddings(model_name=\"sentence-transformers/paraphrase-MiniLM-L6-v2\")\n",
    "\n",
    "# Save ChromaDB locally in ./chroma_subtitles\n",
    "db = Chroma.from_documents(docs, embedding=embedding_function, persist_directory=\"./chroma_subtitles\")\n",
    "db.persist()"
   ]
  },
  {
   "cell_type": "code",
   "execution_count": 16,
   "id": "8db7d2d3",
   "metadata": {},
   "outputs": [
    {
     "name": "stdout",
     "output_type": "stream",
     "text": [
      "Movie: Avengers.Endgame.txt | Score: 45.3334\n",
      "Matched Subtitle: Okay, hold on, don't shoot.\n",
      "- You see where you're going? - Mm-hmm.\n",
      "Okay.\n",
      "Now, let's worry about how you get there.\n",
      "Gotta move your foot here.\n",
      "Point your toe this way.\n",
      "Your hips here.\n",
      "Okay?\n",
      "- Can you \n",
      "--------------------------------------------------------------------------------\n",
      "Movie: Spider-Man.Homecoming.txt | Score: 45.4038\n",
      "Matched Subtitle: Things are never gonna be the same now.\n",
      "I mean, look at this.\n",
      "You got aliens.\n",
      "You got big green guys tearing down buildings.\n",
      "When I was a kid, I used to draw cowboys and Indians.\n",
      "Actually, it's native\n",
      "--------------------------------------------------------------------------------\n",
      "Movie: Captain.America.The.First.Avenger.txt | Score: 45.7433\n",
      "Matched Subtitle: Are you the guys from Washington?\n",
      "You get many other visitors out here?\n",
      "How long you been on-site?\n",
      "Since this morning.\n",
      "A Russian oil team called it in about 18 hours ago.\n",
      "How come nobody spotted it be\n",
      "--------------------------------------------------------------------------------\n"
     ]
    }
   ],
   "source": [
    "def find_movie_from_line(subtitle_line: str, top_k: int = 3):\n",
    "    results = db.similarity_search_with_score(subtitle_line, k=top_k)\n",
    "    for doc, score in results:\n",
    "        print(f\"Movie: {doc.metadata['source']} | Score: {score:.4f}\")\n",
    "        print(f\"Matched Subtitle: {doc.page_content[:200]}\")\n",
    "        print(\"-\" * 80)\n",
    "\n",
    "# Example usage:\n",
    "user_input = \"I can do this all day.\"\n",
    "find_movie_from_line(user_input)"
   ]
  },
  {
   "cell_type": "code",
   "execution_count": 18,
   "id": "d8aa885a",
   "metadata": {},
   "outputs": [
    {
     "name": "stdout",
     "output_type": "stream",
     "text": [
      "Movie: Avengers.Endgame.txt | Score: 47.0558\n",
      "Matched Subtitle: Okay, hold on, don't shoot.\n",
      "- You see where you're going? - Mm-hmm.\n",
      "Okay.\n",
      "Now, let's worry about how you get there.\n",
      "Gotta move your foot here.\n",
      "Point your toe this way.\n",
      "Your hips here.\n",
      "Okay?\n",
      "- Can you \n",
      "--------------------------------------------------------------------------------\n",
      "Movie: Spider-Man.Homecoming.txt | Score: 47.2353\n",
      "Matched Subtitle: Things are never gonna be the same now.\n",
      "I mean, look at this.\n",
      "You got aliens.\n",
      "You got big green guys tearing down buildings.\n",
      "When I was a kid, I used to draw cowboys and Indians.\n",
      "Actually, it's native\n",
      "--------------------------------------------------------------------------------\n",
      "Movie: Captain.America.The.First.Avenger.txt | Score: 47.3899\n",
      "Matched Subtitle: Are you the guys from Washington?\n",
      "You get many other visitors out here?\n",
      "How long you been on-site?\n",
      "Since this morning.\n",
      "A Russian oil team called it in about 18 hours ago.\n",
      "How come nobody spotted it be\n",
      "--------------------------------------------------------------------------------\n"
     ]
    }
   ],
   "source": [
    "# Example usage:\n",
    "user_input = \"I can do this all day\"\n",
    "find_movie_from_line(user_input)"
   ]
  },
  {
   "cell_type": "code",
   "execution_count": 19,
   "id": "903fc9e1",
   "metadata": {},
   "outputs": [
    {
     "name": "stdout",
     "output_type": "stream",
     "text": [
      "Movie: Spider-Man.Homecoming.txt | Score: 43.6696\n",
      "Matched Subtitle: Things are never gonna be the same now.\n",
      "I mean, look at this.\n",
      "You got aliens.\n",
      "You got big green guys tearing down buildings.\n",
      "When I was a kid, I used to draw cowboys and Indians.\n",
      "Actually, it's native\n",
      "--------------------------------------------------------------------------------\n",
      "Movie: Spider-Man.Homecoming.txt | Score: 49.8828\n",
      "Matched Subtitle: Things are never gonna be the same now.\n",
      "I mean, look at this.\n",
      "You got aliens.\n",
      "You got big green guys tearing down buildings.\n",
      "When I was a kid, I used to draw cowboys and Indians.\n",
      "Actually, it's native\n",
      "--------------------------------------------------------------------------------\n",
      "Movie: Captain.America.The.First.Avenger.txt | Score: 51.1737\n",
      "Matched Subtitle: Are you the guys from Washington?\n",
      "You get many other visitors out here?\n",
      "How long you been on-site?\n",
      "Since this morning.\n",
      "A Russian oil team called it in about 18 hours ago.\n",
      "How come nobody spotted it be\n",
      "--------------------------------------------------------------------------------\n"
     ]
    }
   ],
   "source": [
    "# Example usage:\n",
    "user_input = \"You got big green guys tearing down buildings.\"\n",
    "find_movie_from_line(user_input)"
   ]
  },
  {
   "cell_type": "code",
   "execution_count": null,
   "id": "bacf3295",
   "metadata": {},
   "outputs": [],
   "source": []
  }
 ],
 "metadata": {
  "kernelspec": {
   "display_name": "venv",
   "language": "python",
   "name": "python3"
  },
  "language_info": {
   "codemirror_mode": {
    "name": "ipython",
    "version": 3
   },
   "file_extension": ".py",
   "mimetype": "text/x-python",
   "name": "python",
   "nbconvert_exporter": "python",
   "pygments_lexer": "ipython3",
   "version": "3.11.9"
  }
 },
 "nbformat": 4,
 "nbformat_minor": 5
}
